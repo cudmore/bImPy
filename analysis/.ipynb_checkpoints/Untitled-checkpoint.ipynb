{
 "cells": [
  {
   "cell_type": "markdown",
   "metadata": {},
   "source": [
    "### Load a stack and plot histogram of slab (diameter, snr)"
   ]
  },
  {
   "cell_type": "code",
   "execution_count": 19,
   "metadata": {},
   "outputs": [],
   "source": [
    "import matplotlib.pyplot as plt\n",
    "import numpy as np\n",
    "\n",
    "from scipy import stats # for KDE\n",
    "\n",
    "# if using a Jupyter notebook, include:\n",
    "%matplotlib inline\n",
    "\n",
    "import bimpy"
   ]
  },
  {
   "cell_type": "code",
   "execution_count": 20,
   "metadata": {
    "scrolled": true
   },
   "outputs": [
    {
     "name": "stdout",
     "output_type": "stream",
     "text": [
      "bVascularTracing.__init__() loadTracing: True path: /home/cudmore/data/nathan/SAN4/aicsAnalysis/testing/SAN4_tail_ch2.tif\n",
      "    loaded nodes: 1232 edges: 1543 slabs: 45273\n"
     ]
    }
   ],
   "source": [
    "path = '/home/cudmore/data/nathan/SAN4/aicsAnalysis/testing/SAN4_tail_ch2.tif'\n",
    "\n",
    "myStack = bimpy.bStack(path=path, loadImages=False, loadTracing=True)\n",
    "\n"
   ]
  },
  {
   "cell_type": "code",
   "execution_count": 28,
   "metadata": {},
   "outputs": [
    {
     "name": "stdout",
     "output_type": "stream",
     "text": [
      "n: 45273\n",
      "numNan: 7417\n",
      "theMin: 1.0862068965517242\n",
      "theMax: 255.0\n",
      "kde: <scipy.stats.kde.gaussian_kde object at 0x7ff04220d910> xx: 100\n"
     ]
    },
    {
     "data": {
      "image/png": "[encoded data removed]",
      "text/plain": [
       "<Figure size 576x432 with 1 Axes>"
      ]
     },
     "metadata": {
      "needs_background": "light"
     },
     "output_type": "display_data"
    }
   ],
   "source": [
    "# plot\n",
    "\n",
    "d2 = myStack.slabList.d2\n",
    "lpSNR = myStack.slabList.lpSNR\n",
    "\n",
    "n = len(d2)\n",
    "print('n:', n)\n",
    "\n",
    "# count the number of nan's in d2\n",
    "numNan = np.count_nonzero(np.isnan(d2))\n",
    "print('numNan:', numNan)\n",
    "\n",
    "if 1:\n",
    "    statName = 'd2'\n",
    "    thisStat = d2\n",
    "\n",
    "if 1:\n",
    "    statName = 'lpSNR'\n",
    "    thisStat = lpSNR\n",
    "\n",
    "# remove nan\n",
    "thisStat = thisStat[~np.isnan(thisStat)]\n",
    "\n",
    "theMin = np.min(thisStat)\n",
    "theMax = np.max(thisStat)\n",
    "print('theMin:', theMin)\n",
    "print('theMax:', theMax)\n",
    "\n",
    "bins = 'auto'\n",
    "\n",
    "kde = stats.gaussian_kde(thisStat) # returns type 'gaussian_kde'\n",
    "xx = np.linspace(theMin, theMax, 200) # (start, stop, num)\n",
    "print('kde:', kde, 'xx:', len(xx))\n",
    "\n",
    "fig, ax = plt.subplots(figsize=(8,6))\n",
    "#ax.hist(x, normed=True, bins=bins, alpha=0.3)\n",
    "n, bins, patches = ax.hist(x=thisStat,\n",
    "        bins=bins,\n",
    "        density=False,\n",
    "        log=True,\n",
    "        histtype='bar',\n",
    "        facecolor='b',\n",
    "        alpha=0.5)\n",
    "\n",
    "ax.plot(xx, kde(xx))\n",
    "\n",
    "\n",
    "plt.xlabel(statName)\n",
    "plt.ylabel('Count')\n",
    "\n",
    "plt.show()\n"
   ]
  },
  {
   "cell_type": "code",
   "execution_count": null,
   "metadata": {},
   "outputs": [],
   "source": []
  }
 ],
 "metadata": {
  "kernelspec": {
   "display_name": "Python 3",
   "language": "python",
   "name": "python3"
  },
  "language_info": {
   "codemirror_mode": {
    "name": "ipython",
    "version": 3
   },
   "file_extension": ".py",
   "mimetype": "text/x-python",
   "name": "python",
   "nbconvert_exporter": "python",
   "pygments_lexer": "ipython3",
   "version": "3.8.2"
  }
 },
 "nbformat": 4,
 "nbformat_minor": 4
}
