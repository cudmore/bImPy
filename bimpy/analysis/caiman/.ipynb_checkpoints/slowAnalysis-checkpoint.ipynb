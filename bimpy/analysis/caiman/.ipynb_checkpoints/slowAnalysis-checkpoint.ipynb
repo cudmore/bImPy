{
 "cells": [
  {
   "cell_type": "code",
   "execution_count": 1,
   "metadata": {},
   "outputs": [
    {
     "name": "stdout",
     "output_type": "stream",
     "text": [
      "Warning: bImPy bJavaBridge.py exception: failed to import javabridge or bioformats e: No module named 'javabridge'\n"
     ]
    },
    {
     "name": "stderr",
     "output_type": "stream",
     "text": [
      "/home/cudmore/Sites/bImPy/bimpy_env/lib/python3.8/site-packages/skan/csr.py:21: NumbaDeprecationWarning: The 'numba.jitclass' decorator has moved to 'numba.experimental.jitclass' to better reflect the experimental nature of the functionality. Please update your imports to accommodate this change and see https://numba.pydata.org/numba-doc/latest/reference/deprecation.html#change-of-jitclass-location for the time frame.\n",
      "  @numba.jitclass(csr_spec)\n"
     ]
    }
   ],
   "source": [
    "get_ipython().magic('load_ext autoreload')\n",
    "get_ipython().magic('autoreload 2')\n",
    "\n",
    "%matplotlib notebook\n",
    "import matplotlib.pyplot as plt\n",
    "#plt.ion()\n",
    "\n",
    "import bimpy\n",
    "from bimpy.analysis.caiman import readCaiman\n",
    "from bimpy.analysis.caiman.bCaiman import plotCaimanImage\n",
    "from bimpy.analysis.caiman.bCaiman import plotCaimanTrace\n",
    "from bimpy.analysis.caiman.bCaiman import caimanAnalyze"
   ]
  },
  {
   "cell_type": "code",
   "execution_count": 2,
   "metadata": {},
   "outputs": [
    {
     "name": "stdout",
     "output_type": "stream",
     "text": [
      "readCaiman() path: /media/cudmore/data/20201014/slow/inferior/2_nif_inferior_cropped_aligned_results.hdf5\n",
      "  numROI: 43\n",
      "readCaiman() path: /media/cudmore/data/20201014/slow/inferior/3_nif_inferior_cropped_aligned_results.hdf5\n",
      "  numROI: 110\n"
     ]
    }
   ],
   "source": [
    "# list of inferior\n",
    "infFileList = [\n",
    "    '/media/cudmore/data/20201014/slow/inferior/2_nif_inferior_cropped_aligned_results.hdf5',\n",
    "    '/media/cudmore/data/20201014/slow/inferior/3_nif_inferior_cropped_aligned_results.hdf5',\n",
    "    #'/media/cudmore/data/20201014/inferior/4_nif_inferior_cropped_aligned_results.hdf5',\n",
    "]\n",
    "infTheseComponents = [\n",
    "    [0, 1, 2, 3, 4, 5, 6, 7, 8, 9, 10, 11, 12, 13, 14, 15, 16, 17, 18, 20, 21, 22, 23, 24, 25, 27, 29, 30, 31, 32, 33, 34, 35, 36, 37, 38, 39, 40, 41],\n",
    "    [2, 3, 6, 7, 12, 13, 14, 20, 21, 22, 23, 24, 34, 42, 44, 52, 53, 54, 55, 62, 63, 64, 65, 66, 67, 69, 70, 72, 73, 74, 76, 77, 78, 82, 84, 86, 88, 91, 93, 94, 95, 96, 98, 99, 100, 101, 103, 107],\n",
    "    #[],\n",
    "]\n",
    "\n",
    "# load caiman dicts\n",
    "infCaimanDictList = []\n",
    "for idx, infFile in enumerate(infFileList):\n",
    "    caimanDict = readCaiman(infFile, verbose=False)\n",
    "    caimanDict['plotTheseComponents'] = infTheseComponents[idx]\n",
    "    caimanDict['myName'] = 'inf'\n",
    "    infCaimanDictList.append(caimanDict)"
   ]
  },
  {
   "cell_type": "code",
   "execution_count": null,
   "metadata": {},
   "outputs": [],
   "source": [
    "# list of superior\n",
    "supFileList = [\n",
    "    '/media/cudmore/data/20201014/slow/superior/2_nif_superior_cropped_aligned_results.hdf5',\n",
    "    '/media/cudmore/data/20201014/slow/superior/3_nif_superior_cropped_aligned_results.hdf5',\n",
    "    '/media/cudmore/data/20201014/slow/superior/4_nif_superior_cropped_aligned_results.hdf5',\n",
    "]\n",
    "supTheseComponents = [\n",
    "    [4, 5, 6, 7, 9, 10, 12, 13, 14, 15, 16, 17, 19, 20, 21, 22, 24, 27, 40, 41, 45, 46, 47, 48, 49, 51, 55, 56, 59],\n",
    "    [10, 11, 18, 20, 27, 28, 30, 31, 33, 34, 35, 37, 40, 41, 42, 43, 45, 48, 49, 50, 51, 55, 58, 60, 62, 64, 67, 68, 69, 70, 71, 72],\n",
    "    [2, 3, 4, 5, 8, 10, 11, 12, 13, 14, 15, 16, 17, 19, 30, 32, 36, 38, 43, 46, 48],\n",
    "]\n",
    "\n",
    "# load caiman dicts\n",
    "supCaimanDictList = []\n",
    "for idx, supFile in enumerate(supFileList):\n",
    "    caimanDict = readCaiman(supFile, verbose=False)\n",
    "    caimanDict['plotTheseComponents'] = supTheseComponents[idx]\n",
    "    caimanDict['myName'] = 'sup'\n",
    "    supCaimanDictList.append(caimanDict)"
   ]
  }
 ],
 "metadata": {
  "kernelspec": {
   "display_name": "Python 3",
   "language": "python",
   "name": "python3"
  },
  "language_info": {
   "codemirror_mode": {
    "name": "ipython",
    "version": 3
   },
   "file_extension": ".py",
   "mimetype": "text/x-python",
   "name": "python",
   "nbconvert_exporter": "python",
   "pygments_lexer": "ipython3",
   "version": "3.8.5"
  }
 },
 "nbformat": 4,
 "nbformat_minor": 4
}
