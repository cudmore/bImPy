{
 "cells": [
  {
   "cell_type": "code",
   "execution_count": null,
   "metadata": {},
   "outputs": [],
   "source": []
  },
  {
   "cell_type": "code",
   "execution_count": null,
   "metadata": {},
   "outputs": [],
   "source": []
  },
  {
   "cell_type": "markdown",
   "metadata": {},
   "source": [
    "## make virtual environment\n",
    "    python3 -m venv ipyvolume_env\n",
    "\n",
    "## activate environment\n",
    "    source ipyvolume_env/bin/activate\n",
    "\n",
    "## install\n",
    "    pip install ipyvolume\n",
    "\n",
    "    pip install tifffile\n"
   ]
  },
  {
   "cell_type": "code",
   "execution_count": 4,
   "metadata": {},
   "outputs": [],
   "source": [
    "import tifffile\n",
    "import ipyvolume as ipv"
   ]
  },
  {
   "cell_type": "code",
   "execution_count": 8,
   "metadata": {},
   "outputs": [
    {
     "data": {
      "application/vnd.jupyter.widget-view+json": {
       "model_id": "5aaab0ade43e40fda0a4271c05365152",
       "version_major": 2,
       "version_minor": 0
      },
      "text/plain": [
       "VBox(children=(VBox(children=(HBox(children=(Label(value='levels:'), FloatSlider(value=0.5, max=1.0, step=0.00…"
      ]
     },
     "metadata": {},
     "output_type": "display_data"
    }
   ],
   "source": [
    "#path = '/Users/cudmore/box/data/nathan/20200518/analysis2/20200518__A01_G001_0003_ch1_raw.tif'\n",
    "path = '/Users/cudmore/box/data/nathan/20200518/analysis2/20200518__A01_G001_0003_ch1_filtered.tif'\n",
    "myStack = tifffile.imread(path)\n",
    "\n",
    "level = [.5] #[0.25, 0.75]\n",
    "\n",
    "ipv.figure()\n",
    "ipv.volshow(myStack, level=level, opacity=0.03, level_width=0.1, data_min=None, data_max=None)\n",
    "ipv.view(-30, 40)\n",
    "ipv.show()\n"
   ]
  },
  {
   "cell_type": "code",
   "execution_count": null,
   "metadata": {},
   "outputs": [],
   "source": []
  }
 ],
 "metadata": {
  "kernelspec": {
   "display_name": "Python 3",
   "language": "python",
   "name": "python3"
  },
  "language_info": {
   "codemirror_mode": {
    "name": "ipython",
    "version": 3
   },
   "file_extension": ".py",
   "mimetype": "text/x-python",
   "name": "python",
   "nbconvert_exporter": "python",
   "pygments_lexer": "ipython3",
   "version": "3.7.3"
  }
 },
 "nbformat": 4,
 "nbformat_minor": 4
}
