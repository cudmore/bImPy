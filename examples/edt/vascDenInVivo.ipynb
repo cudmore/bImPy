{
 "cells": [
  {
   "cell_type": "markdown",
   "metadata": {},
   "source": [
    "## Run edt algorithm on in vivo Texas-Red stack (single channel)"
   ]
  },
  {
   "cell_type": "code",
   "execution_count": 1,
   "metadata": {},
   "outputs": [],
   "source": [
    "import os\n",
    "\n",
    "import numpy as np\n",
    "\n",
    "import matplotlib.pyplot as plt\n",
    "import seaborn as sns\n",
    "\n",
    "import scipy\n",
    "\n",
    "import tifffile"
   ]
  },
  {
   "cell_type": "markdown",
   "metadata": {},
   "source": [
    "## Utility Functions"
   ]
  },
  {
   "cell_type": "code",
   "execution_count": 2,
   "metadata": {},
   "outputs": [],
   "source": [
    "gNumBins = 250\n",
    "\n",
    "def printStackInfo(name, localData):\n",
    "    flatStack = np.ravel(localData[~np.isnan(localData)])\n",
    "    mean = np.nanmean(flatStack)\n",
    "    std = np.nanstd(flatStack)\n",
    "    cv = std/mean\n",
    "    pcv = cv * 100 # cv as a percentage\n",
    "    #cv2 = scipy.stats.variation(flatStack)\n",
    "    #kurtosis = scipy.stats.kurtosis(flatStack)\n",
    "    #skew = scipy.stats.skew(flatStack)\n",
    "\n",
    "    print(name, \n",
    "          stackData.shape, \n",
    "          stackData.dtype, \n",
    "          'min:', np.nanmin(stackData), \n",
    "          'max:', np.nanmax(stackData), \n",
    "          'mean:', round(mean,2),\n",
    "          'std:', round(std,2),\n",
    "          'CV:',round(cv,2),\n",
    "          'pCV:',round(pcv,2),\n",
    "          #'kurtosis:', kurtosis,\n",
    "          #'skew:', skew,\n",
    "         )\n"
   ]
  },
  {
   "cell_type": "markdown",
   "metadata": {},
   "source": [
    "## Load EDT"
   ]
  },
  {
   "cell_type": "code",
   "execution_count": 3,
   "metadata": {},
   "outputs": [
    {
     "name": "stdout",
     "output_type": "stream",
     "text": [
      "in vivo (204, 512, 512) float32 min: 0.0 max: 101.79879 mean: 15.07 std: 11.79 CV: 0.78 pCV: 78.25\n"
     ]
    }
   ],
   "source": [
    "path = '/Users/cudmore/box/data/nathan/20200420/invivo/analysis/20190613__0028_ch2_9_edt.tif'\n",
    "stackData = tifffile.imread(path)\n",
    "printStackInfo('in vivo', stackData)"
   ]
  },
  {
   "cell_type": "markdown",
   "metadata": {},
   "source": [
    "## Plot histogram of EDT"
   ]
  },
  {
   "cell_type": "code",
   "execution_count": 4,
   "metadata": {},
   "outputs": [
    {
     "name": "stdout",
     "output_type": "stream",
     "text": [
      "in vivo (204, 512, 512) float32 min: 0.0 max: 101.79879 mean: 15.07 std: 11.79 CV: 0.78 pCV: 78.25\n"
     ]
    },
    {
     "data": {
      "image/png": "[encoded data removed]",
      "text/plain": [
       "<Figure size 1080x360 with 1 Axes>"
      ]
     },
     "metadata": {
      "needs_background": "light"
     },
     "output_type": "display_data"
    }
   ],
   "source": [
    "fig, axs = plt.subplots(1, 1, sharey=False, figsize=(15,5))\n",
    "\n",
    "\n",
    "# 0\n",
    "ax = axs\n",
    "printStackInfo('in vivo', stackData)\n",
    "g = sns.distplot(stackData, bins=gNumBins, hist=True, kde=False, norm_hist=False, ax=ax)\n"
   ]
  },
  {
   "cell_type": "markdown",
   "metadata": {},
   "source": [
    "## Remove short distances and plot histogram of EDT"
   ]
  },
  {
   "cell_type": "code",
   "execution_count": 5,
   "metadata": {},
   "outputs": [
    {
     "name": "stdout",
     "output_type": "stream",
     "text": [
      "in vivo (204, 512, 512) float32 min: 1.4062513 max: 101.79879 mean: 15.85 std: 11.58 CV: 0.73 pCV: 73.07\n"
     ]
    },
    {
     "data": {
      "image/png": "[encoded data removed]",
      "text/plain": [
       "<Figure size 1080x360 with 1 Axes>"
      ]
     },
     "metadata": {
      "needs_background": "light"
     },
     "output_type": "display_data"
    }
   ],
   "source": [
    "removeLessThanUm = 1\n",
    "stackData[stackData<=removeLessThanUm] = np.nan # this will give a warning but seems ok\n",
    "printStackInfo('in vivo', stackData)\n",
    "\n",
    "#\n",
    "# plot again\n",
    "fig, axs = plt.subplots(1, 1, sharey=False, figsize=(15,5))\n",
    "ax = axs # just one plot\n",
    "g = sns.distplot(stackData, bins=gNumBins, hist=True, kde=False, norm_hist=False, ax=ax)\n"
   ]
  },
  {
   "cell_type": "markdown",
   "metadata": {},
   "source": [
    "## Plot again with gaussian fit"
   ]
  },
  {
   "cell_type": "code",
   "execution_count": 6,
   "metadata": {},
   "outputs": [
    {
     "name": "stdout",
     "output_type": "stream",
     "text": [
      "stackData2 (204, 512, 512) float32 min: 1.4062513 max: 101.79879 mean: 15.85 std: 11.58 CV: 0.73 pCV: 73.07\n",
      "sigma: 8.863946099008935\n"
     ]
    },
    {
     "data": {
      "image/png": "[encoded data removed]",
      "text/plain": [
       "<Figure size 432x288 with 1 Axes>"
      ]
     },
     "metadata": {
      "needs_background": "light"
     },
     "output_type": "display_data"
    }
   ],
   "source": [
    "def myGaussianFit(x,a,x0,sigma):\n",
    "    return a*np.exp(-(x-x0)**2/(2*sigma**2))\n",
    "\n",
    "histColor = 'g'\n",
    "fitColor = 'r'\n",
    "\n",
    "fig, ax = plt.subplots(1, 1, sharey=False, figsize=(6,4), constrained_layout=True)\n",
    "\n",
    "stackData2 = stackData[~np.isnan(stackData)].copy()\n",
    "printStackInfo('stackData2', stackData2)\n",
    "\n",
    "# plot histogram\n",
    "counts, bins, bars = ax.hist(stackData2, bins=gNumBins, density=True, color=histColor)\n",
    "\n",
    "xStart = np.min(bins)\n",
    "xStop = np.max(bins)\n",
    "x = np.linspace(xStart,xStop,gNumBins) # \n",
    "y = counts\n",
    "# weighted arithmetic mean\n",
    "gMean = sum(x * y) / sum(y)\n",
    "gSigma = np.sqrt(sum(y * (x - gMean)**2) / sum(y))\n",
    "poptGaus, pcovGaus = scipy.optimize.curve_fit(myGaussianFit, x, y, p0=(max(y), gMean, gSigma)) # max(y), mean, sigma\n",
    "gaus1 = poptGaus[0] # a\n",
    "gaus2 = poptGaus[1] # x0\n",
    "gaus3 = poptGaus[2] # sigma\n",
    "\n",
    "print('sigma:', gaus3)\n",
    "    \n",
    "# to plot the fit\n",
    "xFit = x\n",
    "yFit = myGaussianFit(x,gaus1, gaus2, gaus3)\n",
    "\n",
    "# plot the fit\n",
    "fitColor = fitColor + '-'\n",
    "ax.plot(xFit, yFit, fitColor, lw=5)\n",
    "\n",
    "# tweek how it looks\n",
    "ax.spines['right'].set_visible(False)\n",
    "ax.spines['top'].set_visible(False)\n"
   ]
  },
  {
   "cell_type": "code",
   "execution_count": null,
   "metadata": {},
   "outputs": [],
   "source": []
  }
 ],
 "metadata": {
  "kernelspec": {
   "display_name": "Python 3",
   "language": "python",
   "name": "python3"
  },
  "language_info": {
   "codemirror_mode": {
    "name": "ipython",
    "version": 3
   },
   "file_extension": ".py",
   "mimetype": "text/x-python",
   "name": "python",
   "nbconvert_exporter": "python",
   "pygments_lexer": "ipython3",
   "version": "3.7.3"
  }
 },
 "nbformat": 4,
 "nbformat_minor": 4
}
