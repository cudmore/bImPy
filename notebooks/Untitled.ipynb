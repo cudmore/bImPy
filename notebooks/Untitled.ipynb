{
 "cells": [
  {
   "cell_type": "markdown",
   "metadata": {},
   "source": [
    "20200925\n",
    "\n",
    "Preprocess vascular analysis\n",
    "\n",
    "%gui qt\n"
   ]
  },
  {
   "cell_type": "code",
   "execution_count": 1,
   "metadata": {},
   "outputs": [
    {
     "name": "stderr",
     "output_type": "stream",
     "text": [
      "/home/cudmore/Sites/bImPy/bimpy_env/lib/python3.8/site-packages/skan/csr.py:21: NumbaDeprecationWarning: The 'numba.jitclass' decorator has moved to 'numba.experimental.jitclass' to better reflect the experimental nature of the functionality. Please update your imports to accommodate this change and see https://numba.pydata.org/numba-doc/latest/reference/deprecation.html#change-of-jitclass-location for the time frame.\n",
      "  @numba.jitclass(csr_spec)\n"
     ]
    },
    {
     "name": "stdout",
     "output_type": "stream",
     "text": [
      "Warning: bImPy bJavaBridge.py exception: failed to import javabridge or bioformats e: No module named 'javabridge'\n"
     ]
    }
   ],
   "source": [
    "%load_ext autoreload\n",
    "%autoreload 2\n",
    "\n",
    "import bimpy"
   ]
  },
  {
   "cell_type": "code",
   "execution_count": 3,
   "metadata": {},
   "outputs": [],
   "source": [
    "path = '/home/cudmore/data/nathan/20200814_SAN3_BOTTOM_tail/aicsAnalysis/20200814_SAN3_BOTTOM_tail_ch2.tif'\n",
    "\n",
    "stack = bimpy.bStack(path=path)\n",
    "\n",
    "stack.slabList.fixMissingNodes()\n",
    "\n",
    "\n",
    "# do this once then save\n",
    "'''\n",
    "removeSmallerThan = 3\n",
    "bimpy.bVascularTracingAics.removeShortEdges(stack.slabList, removeSmallerThan=removeSmallerThan)\n",
    "\n",
    "stack.saveAnnotations()\n",
    "'''\n",
    "\n",
    "# this will analyze ~5000 edges and 10,000+ slabs\n",
    "# I wrote it to run in parallel but it is not working\n",
    "# only runs in series\n",
    "type = 'Analyze All Diameters'\n",
    "paramDict = {\n",
    "    'radius': 12,\n",
    "    'lineWidth': 5,\n",
    "    'medianFilter': 5,\n",
    "}\n",
    "tmpWorkThread = bimpy.bVascularTracingAics.myWorkThread(stack.slabList, type, paramDict)\n",
    "#tmpWorkThread.run()\n",
    "#tmpWorkThread,join()\n",
    "\n",
    "stack.saveAnnotations()\n"
   ]
  },
  {
   "cell_type": "code",
   "execution_count": null,
   "metadata": {},
   "outputs": [],
   "source": []
  }
 ],
 "metadata": {
  "kernelspec": {
   "display_name": "Python 3",
   "language": "python",
   "name": "python3"
  },
  "language_info": {
   "codemirror_mode": {
    "name": "ipython",
    "version": 3
   },
   "file_extension": ".py",
   "mimetype": "text/x-python",
   "name": "python",
   "nbconvert_exporter": "python",
   "pygments_lexer": "ipython3",
   "version": "3.8.2"
  }
 },
 "nbformat": 4,
 "nbformat_minor": 4
}
